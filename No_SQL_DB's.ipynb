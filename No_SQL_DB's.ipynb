{
  "nbformat": 4,
  "nbformat_minor": 0,
  "metadata": {
    "colab": {
      "name": "No SQL DB's.ipynb",
      "provenance": [],
      "collapsed_sections": [],
      "authorship_tag": "ABX9TyPy79OkJy7VQnJjIer27CzJ",
      "include_colab_link": true
    },
    "kernelspec": {
      "name": "python3",
      "display_name": "Python 3"
    },
    "language_info": {
      "name": "python"
    }
  },
  "cells": [
    {
      "cell_type": "markdown",
      "metadata": {
        "id": "view-in-github",
        "colab_type": "text"
      },
      "source": [
        "<a href=\"https://colab.research.google.com/github/DocMonster7/NoSQL_DB_Example/blob/master/No_SQL_DB's.ipynb\" target=\"_parent\"><img src=\"https://colab.research.google.com/assets/colab-badge.svg\" alt=\"Open In Colab\"/></a>"
      ]
    },
    {
      "cell_type": "markdown",
      "source": [
        "# Key-Value DB\n",
        "\n",
        "In this Example we will be using Firebase RealTime Database to demonstrate Key Value pairs\n"
      ],
      "metadata": {
        "id": "GXFjf5sWuKfT"
      }
    },
    {
      "cell_type": "markdown",
      "source": [
        "## Initialing the DB"
      ],
      "metadata": {
        "id": "Lnl9eOchwv_U"
      }
    },
    {
      "cell_type": "code",
      "execution_count": null,
      "metadata": {
        "id": "Wi6t7aWBuD1s"
      },
      "outputs": [],
      "source": [
        "!pip install firebase_admin\n"
      ]
    },
    {
      "cell_type": "code",
      "source": [
        "import firebase_admin\n",
        "from firebase_admin import db\n",
        "\n",
        "cred_obj = firebase_admin.credentials.Certificate('/content/db-testing-ba7f5-firebase-adminsdk-8r602-69183da56e.json')\n",
        "databaseURL=\"https://db-testing-ba7f5-default-rtdb.firebaseio.com\"\n",
        "\n",
        "default_app = firebase_admin.initialize_app(cred_obj, {\n",
        "\t'databaseURL':databaseURL\n",
        "\t})"
      ],
      "metadata": {
        "id": "1vKqfBy7vHLy"
      },
      "execution_count": null,
      "outputs": []
    },
    {
      "cell_type": "code",
      "source": [
        "ref = db.reference(\"/\")"
      ],
      "metadata": {
        "id": "TMJMr3jSvilf"
      },
      "execution_count": null,
      "outputs": []
    },
    {
      "cell_type": "markdown",
      "source": [
        "## Sending The Data"
      ],
      "metadata": {
        "id": "KYHEpfdLwzIs"
      }
    },
    {
      "cell_type": "code",
      "source": [
        "data = {\n",
        "\t\"Book1\":\n",
        "\t{\n",
        "\t\t\"Title\": \"The Fellowship of the Ring\",\n",
        "\t\t\"Author\": \"J.R.R. Tolkien\",\n",
        "\t\t\"Genre\": \"Epic fantasy\",\n",
        "\t\t\"Price\": 100\n",
        "\t},\n",
        "\t\"Book2\":\n",
        "\t{\n",
        "\t\t\"Title\": \"The Two Towers\",\n",
        "\t\t\"Author\": \"J.R.R. Tolkien\",\n",
        "\t\t\"Genre\": \"Epic fantasy\",\n",
        "\t\t\"Price\": 100\t\n",
        "\t},\n",
        "\t\"Book3\":\n",
        "\t{\n",
        "\t\t\"Title\": \"The Return of the King\",\n",
        "\t\t\"Author\": \"J.R.R. Tolkien\",\n",
        "\t\t\"Genre\": \"Epic fantasy\",\n",
        "\t\t\"Price\": 100\n",
        "\t},\n",
        "\t\"Book4\":\n",
        "\t{\n",
        "\t\t\"Title\": \"Brida\",\n",
        "\t\t\"Author\": \"Paulo Coelho\",\n",
        "\t\t\"Genre\": \"Fiction\",\n",
        "\t\t\"Price\": 100\n",
        "\t}\n",
        "}"
      ],
      "metadata": {
        "id": "ghHpKY3Gvmvs"
      },
      "execution_count": null,
      "outputs": []
    },
    {
      "cell_type": "code",
      "source": [
        "ref.set(data)"
      ],
      "metadata": {
        "id": "4q5tawH5v-6D"
      },
      "execution_count": null,
      "outputs": []
    },
    {
      "cell_type": "code",
      "source": [
        "data_1 = [\n",
        "\t\n",
        "\t{\n",
        "\t\t\"Title\": \"The Fellowship of the Ring\",\n",
        "\t\t\"Author\": \"J.R.R. Tolkien\",\n",
        "\t\t\"Genre\": \"Epic fantasy\",\n",
        "\t\t\"Price\": 100\n",
        "\t},\n",
        "\n",
        "\t{\n",
        "\t\t\"Title\": \"The Two Towers\",\n",
        "\t\t\"Author\": \"J.R.R. Tolkien\",\n",
        "\t\t\"Genre\": \"Epic fantasy\",\n",
        "\t\t\"Price\": 100\t\n",
        "\t},\n",
        "\n",
        "\t{\n",
        "\t\t\"Title\": \"The Return of the King\",\n",
        "\t\t\"Author\": \"J.R.R. Tolkien\",\n",
        "\t\t\"Genre\": \"Epic fantasy\",\n",
        "\t\t\"Price\": 100\n",
        "\t},\n",
        "\n",
        "\t{\n",
        "\t\t\"Title\": \"Brida\",\n",
        "\t\t\"Author\": \"Paulo Coelho\",\n",
        "\t\t\"Genre\": \"Fiction\",\n",
        "\t\t\"Price\": 100\n",
        "\t}\n",
        "]"
      ],
      "metadata": {
        "id": "oT9Js1zNwKNU"
      },
      "execution_count": null,
      "outputs": []
    },
    {
      "cell_type": "code",
      "source": [
        "for book in data_1:\n",
        "  ref.child(\"books\").push(book)"
      ],
      "metadata": {
        "id": "2AsbbrCjwSGk"
      },
      "execution_count": null,
      "outputs": []
    },
    {
      "cell_type": "markdown",
      "source": [
        "## Retriving the data"
      ],
      "metadata": {
        "id": "N237F4_Jw1_s"
      }
    },
    {
      "cell_type": "code",
      "source": [
        "book = ref.child(\"Book1\").get()\n",
        "print(book)"
      ],
      "metadata": {
        "colab": {
          "base_uri": "https://localhost:8080/"
        },
        "id": "grRK36Eqw5RM",
        "outputId": "e167fe52-2a14-43e2-da2f-4103d5b92506"
      },
      "execution_count": null,
      "outputs": [
        {
          "output_type": "stream",
          "name": "stdout",
          "text": [
            "{'Author': 'J.R.R. Tolkien', 'Genre': 'Epic fantasy', 'Price': 100, 'Title': 'The Fellowship of the Ring'}\n"
          ]
        }
      ]
    },
    {
      "cell_type": "code",
      "source": [
        "books = ref.child(\"books\").get()\n",
        "print(books)"
      ],
      "metadata": {
        "colab": {
          "base_uri": "https://localhost:8080/"
        },
        "id": "YnKr3X8DxUJN",
        "outputId": "517344c8-81e5-4545-e620-42f98ce83329"
      },
      "execution_count": null,
      "outputs": [
        {
          "output_type": "stream",
          "name": "stdout",
          "text": [
            "{'-N2pkdfgrEtKl4zT38GW': {'Author': 'J.R.R. Tolkien', 'Genre': 'Epic fantasy', 'Price': 100, 'Title': 'The Fellowship of the Ring'}, '-N2pkdicMSXgT1BDzkp-': {'Author': 'J.R.R. Tolkien', 'Genre': 'Epic fantasy', 'Price': 100, 'Title': 'The Two Towers'}, '-N2pkdotItm1Tyuepdqm': {'Author': 'J.R.R. Tolkien', 'Genre': 'Epic fantasy', 'Price': 100, 'Title': 'The Return of the King'}, '-N2pkdriux9RDsafn0iH': {'Author': 'Paulo Coelho', 'Genre': 'Fiction', 'Price': 100, 'Title': 'Brida'}}\n"
          ]
        }
      ]
    },
    {
      "cell_type": "code",
      "source": [
        "for key,value in books.items():\n",
        "  print(str(key)+\" : \"+str(value['Title']))"
      ],
      "metadata": {
        "colab": {
          "base_uri": "https://localhost:8080/"
        },
        "id": "3Z1Ireoixhjd",
        "outputId": "de024f79-8670-45f7-e6e9-49ab83fcca08"
      },
      "execution_count": null,
      "outputs": [
        {
          "output_type": "stream",
          "name": "stdout",
          "text": [
            "-N2pkdfgrEtKl4zT38GW : The Fellowship of the Ring\n",
            "-N2pkdicMSXgT1BDzkp- : The Two Towers\n",
            "-N2pkdotItm1Tyuepdqm : The Return of the King\n",
            "-N2pkdriux9RDsafn0iH : Brida\n"
          ]
        }
      ]
    },
    {
      "cell_type": "markdown",
      "source": [
        "## Updating The Data"
      ],
      "metadata": {
        "id": "XqJjHT2uyO0f"
      }
    },
    {
      "cell_type": "code",
      "source": [
        "ref.child('Book1').update({\"Price\":400})"
      ],
      "metadata": {
        "id": "E4K9-AtcyRTA"
      },
      "execution_count": null,
      "outputs": []
    },
    {
      "cell_type": "markdown",
      "source": [
        "## Deleting"
      ],
      "metadata": {
        "id": "CSCmJHiiypuX"
      }
    },
    {
      "cell_type": "code",
      "source": [
        "ref.child('Book2').set({})"
      ],
      "metadata": {
        "id": "3wSDOVjIyre4"
      },
      "execution_count": null,
      "outputs": []
    },
    {
      "cell_type": "markdown",
      "source": [
        "# Document DB"
      ],
      "metadata": {
        "id": "f_A-bEdey1AP"
      }
    },
    {
      "cell_type": "code",
      "source": [
        "import firebase_admin\n",
        "from firebase_admin import credentials\n",
        "from firebase_admin import firestore\n",
        "\n",
        "cred = credentials.Certificate('/content/db-testing-ba7f5-firebase-adminsdk-8r602-69183da56e.json')\n",
        "firebase_admin.initialize_app(cred)\n",
        "\n",
        "db = firestore.client()"
      ],
      "metadata": {
        "id": "zN5TaO_My53v"
      },
      "execution_count": null,
      "outputs": []
    },
    {
      "cell_type": "markdown",
      "source": [
        "## Sending Data"
      ],
      "metadata": {
        "id": "abHDtl_szppe"
      }
    },
    {
      "cell_type": "code",
      "source": [
        "ref = db.collection(\"users\").document(\"clarkkent_08\")\n",
        "ref.set({\"name\":\"Clark Kent\",\"username\":\"clarkkent_08\",\"occupation\":\"Journalist\"})"
      ],
      "metadata": {
        "colab": {
          "base_uri": "https://localhost:8080/"
        },
        "id": "ZNc_Iy8izlFK",
        "outputId": "0221c271-0172-4001-b433-a1fd6b4d95ec"
      },
      "execution_count": null,
      "outputs": [
        {
          "output_type": "execute_result",
          "data": {
            "text/plain": [
              "update_time {\n",
              "  seconds: 1653391590\n",
              "  nanos: 159637000\n",
              "}"
            ]
          },
          "metadata": {},
          "execution_count": 2
        }
      ]
    },
    {
      "cell_type": "code",
      "source": [
        "ref = db.collection(\"users\").document(\"batman098\")\n",
        "ref.set({\"name\":\"Bruce Wayne\",\"username\":\"batman098\",\"occupation\":\"Trust Fund Child\"})"
      ],
      "metadata": {
        "colab": {
          "base_uri": "https://localhost:8080/"
        },
        "id": "ruRN7BZa0nYQ",
        "outputId": "91238190-c0a4-4dad-833b-1d61a272e953"
      },
      "execution_count": null,
      "outputs": [
        {
          "output_type": "execute_result",
          "data": {
            "text/plain": [
              "update_time {\n",
              "  seconds: 1653391703\n",
              "  nanos: 790965000\n",
              "}"
            ]
          },
          "metadata": {},
          "execution_count": 3
        }
      ]
    },
    {
      "cell_type": "code",
      "source": [
        "users =[{\n",
        "    \"name\" : \"Barry Alan\",\n",
        "},\n",
        "{\n",
        "    \"name\" : \"Martian Manhunter\",\n",
        "},\n",
        "{\n",
        "    \"name\" : \"Corey Taylor\",\n",
        "},\n",
        "{\n",
        "    \"name\" : \"David Gilmore\",\n",
        "},\n",
        "{\n",
        "    \"name\" : \"Lisa Su\",\n",
        "},\n",
        "{\n",
        "    \"name\" : \"Adam West\",\n",
        "},\n",
        "\n",
        "\n",
        "]"
      ],
      "metadata": {
        "id": "84A8Cxtf2oRK"
      },
      "execution_count": null,
      "outputs": []
    },
    {
      "cell_type": "code",
      "source": [
        "for user in users:\n",
        "  ref = db.collection(\"unkown\").document()\n",
        "  ref.set(user)"
      ],
      "metadata": {
        "id": "G5o-NYmQ2fCb"
      },
      "execution_count": null,
      "outputs": []
    },
    {
      "cell_type": "markdown",
      "source": [
        "## Retriving Data"
      ],
      "metadata": {
        "id": "1J7wQkVq08Uy"
      }
    },
    {
      "cell_type": "code",
      "source": [
        "ref = db.collection('users')\n",
        "docs = ref.stream()\n",
        "for doc in docs:\n",
        "  print(doc.to_dict())\n",
        "  print(doc.id)"
      ],
      "metadata": {
        "colab": {
          "base_uri": "https://localhost:8080/"
        },
        "id": "ilW3qY5y0_f8",
        "outputId": "678dfcfd-3d35-44bb-c3c5-91065d8df6db"
      },
      "execution_count": null,
      "outputs": [
        {
          "output_type": "stream",
          "name": "stdout",
          "text": [
            "{'occupation': 'Trust Fund Child', 'name': 'Bruce Wayne', 'username': 'batman098'}\n",
            "batman098\n",
            "{'name': 'Clark Kent', 'username': 'clarkkent_08', 'occupation': 'Journalist'}\n",
            "clarkkent_08\n"
          ]
        }
      ]
    },
    {
      "cell_type": "markdown",
      "source": [
        "## Deleting"
      ],
      "metadata": {
        "id": "1lphmvUW4_8k"
      }
    },
    {
      "cell_type": "markdown",
      "source": [
        "### Documents"
      ],
      "metadata": {
        "id": "ETspMyNY5FKt"
      }
    },
    {
      "cell_type": "code",
      "source": [
        "db.collection('users').document('batman098').delete()"
      ],
      "metadata": {
        "colab": {
          "base_uri": "https://localhost:8080/"
        },
        "id": "FN04TJ9d2akC",
        "outputId": "7d3bdc58-053d-4596-c673-cf952204e549"
      },
      "execution_count": null,
      "outputs": [
        {
          "output_type": "execute_result",
          "data": {
            "text/plain": [
              "seconds: 1653392902\n",
              "nanos: 198282000"
            ]
          },
          "metadata": {},
          "execution_count": 14
        }
      ]
    },
    {
      "cell_type": "code",
      "source": [
        "db.collection('users').document('clarkkent_08').update({'occupation':firestore.DELETE_FIELD})"
      ],
      "metadata": {
        "colab": {
          "base_uri": "https://localhost:8080/"
        },
        "id": "lD7vP8B95mny",
        "outputId": "9fe899f8-8a22-4b97-a27b-f47f20daec47"
      },
      "execution_count": null,
      "outputs": [
        {
          "output_type": "execute_result",
          "data": {
            "text/plain": [
              "update_time {\n",
              "  seconds: 1653393030\n",
              "  nanos: 971568000\n",
              "}"
            ]
          },
          "metadata": {},
          "execution_count": 15
        }
      ]
    }
  ]
}